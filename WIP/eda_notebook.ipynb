{
 "cells": [
  {
   "cell_type": "markdown",
   "metadata": {},
   "source": [
    "# WIP Notebook"
   ]
  },
  {
   "cell_type": "markdown",
   "metadata": {},
   "source": [
    "## Imports"
   ]
  },
  {
   "cell_type": "code",
   "execution_count": 22,
   "metadata": {},
   "outputs": [],
   "source": [
    "import warnings\n",
    "\n",
    "import holidays\n",
    "import joblib\n",
    "import matplotlib.pyplot as plt\n",
    "import numpy as np\n",
    "import optuna\n",
    "import pandas as pd\n",
    "import seaborn as sns\n",
    "from scipy.stats import kurtosis, mode, pearsonr, skew\n",
    "from sklearn.base import BaseEstimator, ClassifierMixin\n",
    "from sklearn.compose import ColumnTransformer, make_column_selector\n",
    "from sklearn.ensemble import (\n",
    "    HistGradientBoostingClassifier,\n",
    "    HistGradientBoostingRegressor,\n",
    "    RandomForestClassifier,\n",
    "    RandomForestRegressor,\n",
    ")\n",
    "from sklearn.exceptions import ConvergenceWarning\n",
    "from sklearn.linear_model import LinearRegression, LogisticRegression\n",
    "from sklearn.metrics import accuracy_score, root_mean_squared_error\n",
    "from sklearn.model_selection import (\n",
    "    GridSearchCV,\n",
    "    cross_val_score,\n",
    "    cross_validate,\n",
    "    train_test_split,\n",
    ")\n",
    "from sklearn.pipeline import Pipeline\n",
    "from sklearn.preprocessing import OneHotEncoder, OrdinalEncoder, StandardScaler\n",
    "from sklearn.tree import DecisionTreeRegressor\n",
    "from skrub import GapEncoder, TableVectorizer\n",
    "import xgboost as xgb\n",
    "from ydata_profiling import ProfileReport"
   ]
  },
  {
   "cell_type": "code",
   "execution_count": 28,
   "metadata": {},
   "outputs": [],
   "source": [
    "def date_encoder(X, col=\"date\"):\n",
    "    X = X.copy()  # modify a copy of X\n",
    "    # Encode the date information from the DateOfDeparture columns\n",
    "    X[\"year\"] = X[col].dt.year\n",
    "    X[\"month\"] = X[col].dt.month\n",
    "    X[\"day\"] = X[col].dt.day\n",
    "    X[\"weekday\"] = X[col].dt.weekday + 1\n",
    "    X[\"hour\"] = X[col].dt.hour\n",
    "\n",
    "    X[\"is_weekend\"] = np.where(\n",
    "        X[\"weekday\"] + 1 > 5, 1, 0\n",
    "    )  # Binary variable indicating weekend or not (1=weekend, 0=weekday)\n",
    "\n",
    "    fr_holidays = holidays.FR()  # Get list of FR holidays\n",
    "    X[\"is_holiday\"] = X[col].apply(\n",
    "        lambda x: 1 if x in fr_holidays else 0\n",
    "    )  # Binary variable indicating bank holiday or not (1 = holiday, 0 = not holiday)\n",
    "\n",
    "    # Finally we can drop the original columns from the dataframe\n",
    "    return X.drop(columns=[\"date\"])"
   ]
  },
  {
   "cell_type": "code",
   "execution_count": 34,
   "metadata": {},
   "outputs": [],
   "source": [
    "# Import provided data\n",
    "train = pd.read_parquet(\"/Users/pierrehaas/bike_counters/data/train.parquet\")\n",
    "test = pd.read_parquet(\"/Users/pierrehaas/bike_counters/data/final_test.parquet\")\n",
    "\n",
    "# Import additionally sourced data\n",
    "weather = pd.read_csv(\"/Users/pierrehaas/bike_counters/external_data/external_data.csv\")"
   ]
  },
  {
   "cell_type": "code",
   "execution_count": 46,
   "metadata": {},
   "outputs": [],
   "source": [
    "# pd.read_csv(\"/Users/pierrehaas/bike_counters/external_data/H_75_previous-2020-2022.csv.gz\", compression=\"gzip\", sep=\";\")"
   ]
  },
  {
   "cell_type": "markdown",
   "metadata": {},
   "source": [
    "## EDA"
   ]
  },
  {
   "cell_type": "code",
   "execution_count": 35,
   "metadata": {},
   "outputs": [
    {
     "data": {
      "text/plain": [
       "counter_id                         category\n",
       "counter_name                       category\n",
       "site_id                               int64\n",
       "site_name                          category\n",
       "bike_count                          float64\n",
       "date                         datetime64[us]\n",
       "counter_installation_date    datetime64[us]\n",
       "coordinates                        category\n",
       "counter_technical_id               category\n",
       "latitude                            float64\n",
       "longitude                           float64\n",
       "log_bike_count                      float64\n",
       "dtype: object"
      ]
     },
     "execution_count": 35,
     "metadata": {},
     "output_type": "execute_result"
    }
   ],
   "source": [
    "train.dtypes"
   ]
  },
  {
   "cell_type": "code",
   "execution_count": 36,
   "metadata": {},
   "outputs": [
    {
     "data": {
      "text/html": [
       "<div>\n",
       "<style scoped>\n",
       "    .dataframe tbody tr th:only-of-type {\n",
       "        vertical-align: middle;\n",
       "    }\n",
       "\n",
       "    .dataframe tbody tr th {\n",
       "        vertical-align: top;\n",
       "    }\n",
       "\n",
       "    .dataframe thead th {\n",
       "        text-align: right;\n",
       "    }\n",
       "</style>\n",
       "<table border=\"1\" class=\"dataframe\">\n",
       "  <thead>\n",
       "    <tr style=\"text-align: right;\">\n",
       "      <th></th>\n",
       "      <th>counter_id</th>\n",
       "      <th>counter_name</th>\n",
       "      <th>site_id</th>\n",
       "      <th>site_name</th>\n",
       "      <th>bike_count</th>\n",
       "      <th>date</th>\n",
       "      <th>counter_installation_date</th>\n",
       "      <th>coordinates</th>\n",
       "      <th>counter_technical_id</th>\n",
       "      <th>latitude</th>\n",
       "      <th>longitude</th>\n",
       "      <th>log_bike_count</th>\n",
       "    </tr>\n",
       "  </thead>\n",
       "  <tbody>\n",
       "    <tr>\n",
       "      <th>48321</th>\n",
       "      <td>100007049-102007049</td>\n",
       "      <td>28 boulevard Diderot E-O</td>\n",
       "      <td>100007049</td>\n",
       "      <td>28 boulevard Diderot</td>\n",
       "      <td>0.0</td>\n",
       "      <td>2020-09-01 02:00:00</td>\n",
       "      <td>2013-01-18</td>\n",
       "      <td>48.846028,2.375429</td>\n",
       "      <td>Y2H15027244</td>\n",
       "      <td>48.846028</td>\n",
       "      <td>2.375429</td>\n",
       "      <td>0.000000</td>\n",
       "    </tr>\n",
       "    <tr>\n",
       "      <th>48324</th>\n",
       "      <td>100007049-102007049</td>\n",
       "      <td>28 boulevard Diderot E-O</td>\n",
       "      <td>100007049</td>\n",
       "      <td>28 boulevard Diderot</td>\n",
       "      <td>1.0</td>\n",
       "      <td>2020-09-01 03:00:00</td>\n",
       "      <td>2013-01-18</td>\n",
       "      <td>48.846028,2.375429</td>\n",
       "      <td>Y2H15027244</td>\n",
       "      <td>48.846028</td>\n",
       "      <td>2.375429</td>\n",
       "      <td>0.693147</td>\n",
       "    </tr>\n",
       "    <tr>\n",
       "      <th>48327</th>\n",
       "      <td>100007049-102007049</td>\n",
       "      <td>28 boulevard Diderot E-O</td>\n",
       "      <td>100007049</td>\n",
       "      <td>28 boulevard Diderot</td>\n",
       "      <td>0.0</td>\n",
       "      <td>2020-09-01 04:00:00</td>\n",
       "      <td>2013-01-18</td>\n",
       "      <td>48.846028,2.375429</td>\n",
       "      <td>Y2H15027244</td>\n",
       "      <td>48.846028</td>\n",
       "      <td>2.375429</td>\n",
       "      <td>0.000000</td>\n",
       "    </tr>\n",
       "    <tr>\n",
       "      <th>48330</th>\n",
       "      <td>100007049-102007049</td>\n",
       "      <td>28 boulevard Diderot E-O</td>\n",
       "      <td>100007049</td>\n",
       "      <td>28 boulevard Diderot</td>\n",
       "      <td>4.0</td>\n",
       "      <td>2020-09-01 15:00:00</td>\n",
       "      <td>2013-01-18</td>\n",
       "      <td>48.846028,2.375429</td>\n",
       "      <td>Y2H15027244</td>\n",
       "      <td>48.846028</td>\n",
       "      <td>2.375429</td>\n",
       "      <td>1.609438</td>\n",
       "    </tr>\n",
       "    <tr>\n",
       "      <th>48333</th>\n",
       "      <td>100007049-102007049</td>\n",
       "      <td>28 boulevard Diderot E-O</td>\n",
       "      <td>100007049</td>\n",
       "      <td>28 boulevard Diderot</td>\n",
       "      <td>9.0</td>\n",
       "      <td>2020-09-01 18:00:00</td>\n",
       "      <td>2013-01-18</td>\n",
       "      <td>48.846028,2.375429</td>\n",
       "      <td>Y2H15027244</td>\n",
       "      <td>48.846028</td>\n",
       "      <td>2.375429</td>\n",
       "      <td>2.302585</td>\n",
       "    </tr>\n",
       "  </tbody>\n",
       "</table>\n",
       "</div>"
      ],
      "text/plain": [
       "                counter_id              counter_name    site_id  \\\n",
       "48321  100007049-102007049  28 boulevard Diderot E-O  100007049   \n",
       "48324  100007049-102007049  28 boulevard Diderot E-O  100007049   \n",
       "48327  100007049-102007049  28 boulevard Diderot E-O  100007049   \n",
       "48330  100007049-102007049  28 boulevard Diderot E-O  100007049   \n",
       "48333  100007049-102007049  28 boulevard Diderot E-O  100007049   \n",
       "\n",
       "                  site_name  bike_count                date  \\\n",
       "48321  28 boulevard Diderot         0.0 2020-09-01 02:00:00   \n",
       "48324  28 boulevard Diderot         1.0 2020-09-01 03:00:00   \n",
       "48327  28 boulevard Diderot         0.0 2020-09-01 04:00:00   \n",
       "48330  28 boulevard Diderot         4.0 2020-09-01 15:00:00   \n",
       "48333  28 boulevard Diderot         9.0 2020-09-01 18:00:00   \n",
       "\n",
       "      counter_installation_date         coordinates counter_technical_id  \\\n",
       "48321                2013-01-18  48.846028,2.375429          Y2H15027244   \n",
       "48324                2013-01-18  48.846028,2.375429          Y2H15027244   \n",
       "48327                2013-01-18  48.846028,2.375429          Y2H15027244   \n",
       "48330                2013-01-18  48.846028,2.375429          Y2H15027244   \n",
       "48333                2013-01-18  48.846028,2.375429          Y2H15027244   \n",
       "\n",
       "        latitude  longitude  log_bike_count  \n",
       "48321  48.846028   2.375429        0.000000  \n",
       "48324  48.846028   2.375429        0.693147  \n",
       "48327  48.846028   2.375429        0.000000  \n",
       "48330  48.846028   2.375429        1.609438  \n",
       "48333  48.846028   2.375429        2.302585  "
      ]
     },
     "execution_count": 36,
     "metadata": {},
     "output_type": "execute_result"
    }
   ],
   "source": [
    "train.head()"
   ]
  },
  {
   "cell_type": "code",
   "execution_count": 37,
   "metadata": {},
   "outputs": [
    {
     "data": {
      "text/plain": [
       "(496827, 12)"
      ]
     },
     "execution_count": 37,
     "metadata": {},
     "output_type": "execute_result"
    }
   ],
   "source": [
    "train.shape"
   ]
  },
  {
   "cell_type": "code",
   "execution_count": 38,
   "metadata": {},
   "outputs": [
    {
     "data": {
      "text/plain": [
       "(Timestamp('2020-09-01 01:00:00'), Timestamp('2021-09-09 23:00:00'))"
      ]
     },
     "execution_count": 38,
     "metadata": {},
     "output_type": "execute_result"
    }
   ],
   "source": [
    "train[\"date\"].min(), train[\"date\"].max()"
   ]
  },
  {
   "cell_type": "code",
   "execution_count": 40,
   "metadata": {},
   "outputs": [
    {
     "data": {
      "text/html": [
       "<div>\n",
       "<style scoped>\n",
       "    .dataframe tbody tr th:only-of-type {\n",
       "        vertical-align: middle;\n",
       "    }\n",
       "\n",
       "    .dataframe tbody tr th {\n",
       "        vertical-align: top;\n",
       "    }\n",
       "\n",
       "    .dataframe thead th {\n",
       "        text-align: right;\n",
       "    }\n",
       "</style>\n",
       "<table border=\"1\" class=\"dataframe\">\n",
       "  <thead>\n",
       "    <tr style=\"text-align: right;\">\n",
       "      <th></th>\n",
       "      <th>counter_id</th>\n",
       "      <th>counter_name</th>\n",
       "      <th>site_id</th>\n",
       "      <th>site_name</th>\n",
       "      <th>date</th>\n",
       "      <th>counter_installation_date</th>\n",
       "      <th>coordinates</th>\n",
       "      <th>counter_technical_id</th>\n",
       "      <th>latitude</th>\n",
       "      <th>longitude</th>\n",
       "    </tr>\n",
       "  </thead>\n",
       "  <tbody>\n",
       "    <tr>\n",
       "      <th>0</th>\n",
       "      <td>100007049-102007049</td>\n",
       "      <td>28 boulevard Diderot E-O</td>\n",
       "      <td>100007049</td>\n",
       "      <td>28 boulevard Diderot</td>\n",
       "      <td>2021-09-10 01:00:00</td>\n",
       "      <td>2013-01-18</td>\n",
       "      <td>48.846028,2.375429</td>\n",
       "      <td>Y2H15027244</td>\n",
       "      <td>48.846028</td>\n",
       "      <td>2.375429</td>\n",
       "    </tr>\n",
       "    <tr>\n",
       "      <th>1</th>\n",
       "      <td>100007049-102007049</td>\n",
       "      <td>28 boulevard Diderot E-O</td>\n",
       "      <td>100007049</td>\n",
       "      <td>28 boulevard Diderot</td>\n",
       "      <td>2021-09-10 13:00:00</td>\n",
       "      <td>2013-01-18</td>\n",
       "      <td>48.846028,2.375429</td>\n",
       "      <td>Y2H15027244</td>\n",
       "      <td>48.846028</td>\n",
       "      <td>2.375429</td>\n",
       "    </tr>\n",
       "    <tr>\n",
       "      <th>2</th>\n",
       "      <td>100007049-102007049</td>\n",
       "      <td>28 boulevard Diderot E-O</td>\n",
       "      <td>100007049</td>\n",
       "      <td>28 boulevard Diderot</td>\n",
       "      <td>2021-09-10 17:00:00</td>\n",
       "      <td>2013-01-18</td>\n",
       "      <td>48.846028,2.375429</td>\n",
       "      <td>Y2H15027244</td>\n",
       "      <td>48.846028</td>\n",
       "      <td>2.375429</td>\n",
       "    </tr>\n",
       "    <tr>\n",
       "      <th>3</th>\n",
       "      <td>100007049-102007049</td>\n",
       "      <td>28 boulevard Diderot E-O</td>\n",
       "      <td>100007049</td>\n",
       "      <td>28 boulevard Diderot</td>\n",
       "      <td>2021-09-10 19:00:00</td>\n",
       "      <td>2013-01-18</td>\n",
       "      <td>48.846028,2.375429</td>\n",
       "      <td>Y2H15027244</td>\n",
       "      <td>48.846028</td>\n",
       "      <td>2.375429</td>\n",
       "    </tr>\n",
       "    <tr>\n",
       "      <th>4</th>\n",
       "      <td>100007049-102007049</td>\n",
       "      <td>28 boulevard Diderot E-O</td>\n",
       "      <td>100007049</td>\n",
       "      <td>28 boulevard Diderot</td>\n",
       "      <td>2021-09-10 22:00:00</td>\n",
       "      <td>2013-01-18</td>\n",
       "      <td>48.846028,2.375429</td>\n",
       "      <td>Y2H15027244</td>\n",
       "      <td>48.846028</td>\n",
       "      <td>2.375429</td>\n",
       "    </tr>\n",
       "  </tbody>\n",
       "</table>\n",
       "</div>"
      ],
      "text/plain": [
       "            counter_id              counter_name    site_id  \\\n",
       "0  100007049-102007049  28 boulevard Diderot E-O  100007049   \n",
       "1  100007049-102007049  28 boulevard Diderot E-O  100007049   \n",
       "2  100007049-102007049  28 boulevard Diderot E-O  100007049   \n",
       "3  100007049-102007049  28 boulevard Diderot E-O  100007049   \n",
       "4  100007049-102007049  28 boulevard Diderot E-O  100007049   \n",
       "\n",
       "              site_name                date counter_installation_date  \\\n",
       "0  28 boulevard Diderot 2021-09-10 01:00:00                2013-01-18   \n",
       "1  28 boulevard Diderot 2021-09-10 13:00:00                2013-01-18   \n",
       "2  28 boulevard Diderot 2021-09-10 17:00:00                2013-01-18   \n",
       "3  28 boulevard Diderot 2021-09-10 19:00:00                2013-01-18   \n",
       "4  28 boulevard Diderot 2021-09-10 22:00:00                2013-01-18   \n",
       "\n",
       "          coordinates counter_technical_id   latitude  longitude  \n",
       "0  48.846028,2.375429          Y2H15027244  48.846028   2.375429  \n",
       "1  48.846028,2.375429          Y2H15027244  48.846028   2.375429  \n",
       "2  48.846028,2.375429          Y2H15027244  48.846028   2.375429  \n",
       "3  48.846028,2.375429          Y2H15027244  48.846028   2.375429  \n",
       "4  48.846028,2.375429          Y2H15027244  48.846028   2.375429  "
      ]
     },
     "execution_count": 40,
     "metadata": {},
     "output_type": "execute_result"
    }
   ],
   "source": [
    "test.head()"
   ]
  },
  {
   "cell_type": "code",
   "execution_count": 41,
   "metadata": {},
   "outputs": [
    {
     "data": {
      "text/plain": [
       "(51440, 10)"
      ]
     },
     "execution_count": 41,
     "metadata": {},
     "output_type": "execute_result"
    }
   ],
   "source": [
    "test.shape"
   ]
  },
  {
   "cell_type": "code",
   "execution_count": 42,
   "metadata": {},
   "outputs": [
    {
     "data": {
      "text/plain": [
       "(Timestamp('2021-09-10 01:00:00'), Timestamp('2021-10-18 21:00:00'))"
      ]
     },
     "execution_count": 42,
     "metadata": {},
     "output_type": "execute_result"
    }
   ],
   "source": [
    "test[\"date\"].min(), test[\"date\"].max()"
   ]
  },
  {
   "cell_type": "code",
   "execution_count": 31,
   "metadata": {},
   "outputs": [
    {
     "data": {
      "text/html": [
       "<div>\n",
       "<style scoped>\n",
       "    .dataframe tbody tr th:only-of-type {\n",
       "        vertical-align: middle;\n",
       "    }\n",
       "\n",
       "    .dataframe tbody tr th {\n",
       "        vertical-align: top;\n",
       "    }\n",
       "\n",
       "    .dataframe thead th {\n",
       "        text-align: right;\n",
       "    }\n",
       "</style>\n",
       "<table border=\"1\" class=\"dataframe\">\n",
       "  <thead>\n",
       "    <tr style=\"text-align: right;\">\n",
       "      <th></th>\n",
       "      <th>numer_sta</th>\n",
       "      <th>date</th>\n",
       "      <th>pmer</th>\n",
       "      <th>tend</th>\n",
       "      <th>cod_tend</th>\n",
       "      <th>dd</th>\n",
       "      <th>ff</th>\n",
       "      <th>t</th>\n",
       "      <th>td</th>\n",
       "      <th>u</th>\n",
       "      <th>...</th>\n",
       "      <th>hnuage1</th>\n",
       "      <th>nnuage2</th>\n",
       "      <th>ctype2</th>\n",
       "      <th>hnuage2</th>\n",
       "      <th>nnuage3</th>\n",
       "      <th>ctype3</th>\n",
       "      <th>hnuage3</th>\n",
       "      <th>nnuage4</th>\n",
       "      <th>ctype4</th>\n",
       "      <th>hnuage4</th>\n",
       "    </tr>\n",
       "  </thead>\n",
       "  <tbody>\n",
       "    <tr>\n",
       "      <th>0</th>\n",
       "      <td>7149</td>\n",
       "      <td>2021-01-01 00:00:00</td>\n",
       "      <td>100810</td>\n",
       "      <td>80</td>\n",
       "      <td>1</td>\n",
       "      <td>270</td>\n",
       "      <td>1.8</td>\n",
       "      <td>272.75</td>\n",
       "      <td>272.15</td>\n",
       "      <td>96</td>\n",
       "      <td>...</td>\n",
       "      <td>600.0</td>\n",
       "      <td>NaN</td>\n",
       "      <td>NaN</td>\n",
       "      <td>NaN</td>\n",
       "      <td>NaN</td>\n",
       "      <td>NaN</td>\n",
       "      <td>NaN</td>\n",
       "      <td>NaN</td>\n",
       "      <td>NaN</td>\n",
       "      <td>NaN</td>\n",
       "    </tr>\n",
       "    <tr>\n",
       "      <th>1</th>\n",
       "      <td>7149</td>\n",
       "      <td>2021-01-01 03:00:00</td>\n",
       "      <td>100920</td>\n",
       "      <td>110</td>\n",
       "      <td>3</td>\n",
       "      <td>300</td>\n",
       "      <td>1.7</td>\n",
       "      <td>271.25</td>\n",
       "      <td>270.95</td>\n",
       "      <td>98</td>\n",
       "      <td>...</td>\n",
       "      <td>1500.0</td>\n",
       "      <td>2.0</td>\n",
       "      <td>3.0</td>\n",
       "      <td>3000.0</td>\n",
       "      <td>NaN</td>\n",
       "      <td>NaN</td>\n",
       "      <td>NaN</td>\n",
       "      <td>NaN</td>\n",
       "      <td>NaN</td>\n",
       "      <td>NaN</td>\n",
       "    </tr>\n",
       "    <tr>\n",
       "      <th>2</th>\n",
       "      <td>7149</td>\n",
       "      <td>2021-01-01 06:00:00</td>\n",
       "      <td>100950</td>\n",
       "      <td>30</td>\n",
       "      <td>3</td>\n",
       "      <td>290</td>\n",
       "      <td>2.6</td>\n",
       "      <td>271.95</td>\n",
       "      <td>271.65</td>\n",
       "      <td>98</td>\n",
       "      <td>...</td>\n",
       "      <td>480.0</td>\n",
       "      <td>4.0</td>\n",
       "      <td>6.0</td>\n",
       "      <td>2000.0</td>\n",
       "      <td>6.0</td>\n",
       "      <td>3.0</td>\n",
       "      <td>3000.0</td>\n",
       "      <td>NaN</td>\n",
       "      <td>NaN</td>\n",
       "      <td>NaN</td>\n",
       "    </tr>\n",
       "    <tr>\n",
       "      <th>3</th>\n",
       "      <td>7149</td>\n",
       "      <td>2021-01-01 09:00:00</td>\n",
       "      <td>101100</td>\n",
       "      <td>150</td>\n",
       "      <td>2</td>\n",
       "      <td>280</td>\n",
       "      <td>1.7</td>\n",
       "      <td>272.45</td>\n",
       "      <td>272.05</td>\n",
       "      <td>97</td>\n",
       "      <td>...</td>\n",
       "      <td>1740.0</td>\n",
       "      <td>3.0</td>\n",
       "      <td>3.0</td>\n",
       "      <td>2800.0</td>\n",
       "      <td>NaN</td>\n",
       "      <td>NaN</td>\n",
       "      <td>NaN</td>\n",
       "      <td>NaN</td>\n",
       "      <td>NaN</td>\n",
       "      <td>NaN</td>\n",
       "    </tr>\n",
       "    <tr>\n",
       "      <th>4</th>\n",
       "      <td>7149</td>\n",
       "      <td>2021-01-01 12:00:00</td>\n",
       "      <td>101110</td>\n",
       "      <td>30</td>\n",
       "      <td>0</td>\n",
       "      <td>50</td>\n",
       "      <td>1.0</td>\n",
       "      <td>276.95</td>\n",
       "      <td>274.15</td>\n",
       "      <td>82</td>\n",
       "      <td>...</td>\n",
       "      <td>330.0</td>\n",
       "      <td>4.0</td>\n",
       "      <td>6.0</td>\n",
       "      <td>570.0</td>\n",
       "      <td>7.0</td>\n",
       "      <td>6.0</td>\n",
       "      <td>810.0</td>\n",
       "      <td>NaN</td>\n",
       "      <td>NaN</td>\n",
       "      <td>NaN</td>\n",
       "    </tr>\n",
       "  </tbody>\n",
       "</table>\n",
       "<p>5 rows × 59 columns</p>\n",
       "</div>"
      ],
      "text/plain": [
       "   numer_sta                 date    pmer  tend  cod_tend   dd   ff       t  \\\n",
       "0       7149  2021-01-01 00:00:00  100810    80         1  270  1.8  272.75   \n",
       "1       7149  2021-01-01 03:00:00  100920   110         3  300  1.7  271.25   \n",
       "2       7149  2021-01-01 06:00:00  100950    30         3  290  2.6  271.95   \n",
       "3       7149  2021-01-01 09:00:00  101100   150         2  280  1.7  272.45   \n",
       "4       7149  2021-01-01 12:00:00  101110    30         0   50  1.0  276.95   \n",
       "\n",
       "       td   u  ...  hnuage1  nnuage2  ctype2  hnuage2  nnuage3  ctype3  \\\n",
       "0  272.15  96  ...    600.0      NaN     NaN      NaN      NaN     NaN   \n",
       "1  270.95  98  ...   1500.0      2.0     3.0   3000.0      NaN     NaN   \n",
       "2  271.65  98  ...    480.0      4.0     6.0   2000.0      6.0     3.0   \n",
       "3  272.05  97  ...   1740.0      3.0     3.0   2800.0      NaN     NaN   \n",
       "4  274.15  82  ...    330.0      4.0     6.0    570.0      7.0     6.0   \n",
       "\n",
       "   hnuage3  nnuage4  ctype4  hnuage4  \n",
       "0      NaN      NaN     NaN      NaN  \n",
       "1      NaN      NaN     NaN      NaN  \n",
       "2   3000.0      NaN     NaN      NaN  \n",
       "3      NaN      NaN     NaN      NaN  \n",
       "4    810.0      NaN     NaN      NaN  \n",
       "\n",
       "[5 rows x 59 columns]"
      ]
     },
     "execution_count": 31,
     "metadata": {},
     "output_type": "execute_result"
    }
   ],
   "source": [
    "weather.head()"
   ]
  },
  {
   "cell_type": "code",
   "execution_count": 39,
   "metadata": {},
   "outputs": [
    {
     "data": {
      "text/plain": [
       "(3322, 59)"
      ]
     },
     "execution_count": 39,
     "metadata": {},
     "output_type": "execute_result"
    }
   ],
   "source": [
    "weather.shape"
   ]
  },
  {
   "cell_type": "code",
   "execution_count": 43,
   "metadata": {},
   "outputs": [
    {
     "data": {
      "text/plain": [
       "('2020-09-01 00:00:00', '2021-10-21 12:00:00')"
      ]
     },
     "execution_count": 43,
     "metadata": {},
     "output_type": "execute_result"
    }
   ],
   "source": [
    "weather[\"date\"].min(), weather[\"date\"].max()"
   ]
  },
  {
   "cell_type": "markdown",
   "metadata": {},
   "source": [
    "## Feature engineering"
   ]
  },
  {
   "cell_type": "markdown",
   "metadata": {},
   "source": [
    "### Date Encoding"
   ]
  },
  {
   "cell_type": "code",
   "execution_count": 30,
   "metadata": {},
   "outputs": [],
   "source": [
    "train = date_encoder(train, col=\"date\")\n",
    "test = date_encoder(test, col=\"date\")"
   ]
  },
  {
   "cell_type": "code",
   "execution_count": null,
   "metadata": {},
   "outputs": [],
   "source": []
  }
 ],
 "metadata": {
  "kernelspec": {
   "display_name": "Python 3",
   "language": "python",
   "name": "python3"
  },
  "language_info": {
   "codemirror_mode": {
    "name": "ipython",
    "version": 3
   },
   "file_extension": ".py",
   "mimetype": "text/x-python",
   "name": "python",
   "nbconvert_exporter": "python",
   "pygments_lexer": "ipython3",
   "version": "3.12.4"
  }
 },
 "nbformat": 4,
 "nbformat_minor": 2
}
